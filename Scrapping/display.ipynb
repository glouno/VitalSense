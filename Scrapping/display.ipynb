{
 "cells": [
  {
   "cell_type": "code",
   "execution_count": 75,
   "metadata": {},
   "outputs": [
    {
     "name": "stdout",
     "output_type": "stream",
     "text": [
      "The autoreload extension is already loaded. To reload it, use:\n",
      "  %reload_ext autoreload\n"
     ]
    }
   ],
   "source": [
    "%load_ext autoreload\n",
    "%autoreload 2\n",
    "\n",
    "import my_scripts\n",
    "import pandas as pd"
   ]
  },
  {
   "cell_type": "code",
   "execution_count": 62,
   "metadata": {},
   "outputs": [],
   "source": [
    "my_scripts.generation_dataset()"
   ]
  },
  {
   "cell_type": "code",
   "execution_count": 77,
   "metadata": {},
   "outputs": [
    {
     "data": {
      "text/html": [
       "<div>\n",
       "<style scoped>\n",
       "    .dataframe tbody tr th:only-of-type {\n",
       "        vertical-align: middle;\n",
       "    }\n",
       "\n",
       "    .dataframe tbody tr th {\n",
       "        vertical-align: top;\n",
       "    }\n",
       "\n",
       "    .dataframe thead th {\n",
       "        text-align: right;\n",
       "    }\n",
       "</style>\n",
       "<table border=\"1\" class=\"dataframe\">\n",
       "  <thead>\n",
       "    <tr style=\"text-align: right;\">\n",
       "      <th></th>\n",
       "      <th>ContigN50</th>\n",
       "      <th>ScaffoldN50</th>\n",
       "      <th>Coverage</th>\n",
       "      <th>Sex</th>\n",
       "      <th>Isolate</th>\n",
       "      <th>BioSampleId</th>\n",
       "      <th>AsmReleaseDate_GenBank</th>\n",
       "      <th>FtpPath_GenBank</th>\n",
       "    </tr>\n",
       "  </thead>\n",
       "  <tbody>\n",
       "    <tr>\n",
       "      <th>0</th>\n",
       "      <td>108176534</td>\n",
       "      <td>134959787</td>\n",
       "      <td>76</td>\n",
       "      <td>male</td>\n",
       "      <td>HG03492</td>\n",
       "      <td>13958363</td>\n",
       "      <td>2025/02/03 00:00</td>\n",
       "      <td>ftp://ftp.ncbi.nlm.nih.gov/genomes/all/GCA/018...</td>\n",
       "    </tr>\n",
       "    <tr>\n",
       "      <th>1</th>\n",
       "      <td>59309297</td>\n",
       "      <td>59309297</td>\n",
       "      <td>40</td>\n",
       "      <td>NaN</td>\n",
       "      <td>NaN</td>\n",
       "      <td>45947948</td>\n",
       "      <td>2025/01/25 00:00</td>\n",
       "      <td>ftp://ftp.ncbi.nlm.nih.gov/genomes/all/GCA/964...</td>\n",
       "    </tr>\n",
       "    <tr>\n",
       "      <th>2</th>\n",
       "      <td>48812273</td>\n",
       "      <td>48812273</td>\n",
       "      <td>38</td>\n",
       "      <td>NaN</td>\n",
       "      <td>NaN</td>\n",
       "      <td>45948176</td>\n",
       "      <td>2025/01/25 00:00</td>\n",
       "      <td>ftp://ftp.ncbi.nlm.nih.gov/genomes/all/GCA/964...</td>\n",
       "    </tr>\n",
       "    <tr>\n",
       "      <th>3</th>\n",
       "      <td>91818594</td>\n",
       "      <td>91818594</td>\n",
       "      <td>40</td>\n",
       "      <td>NaN</td>\n",
       "      <td>NaN</td>\n",
       "      <td>45959207</td>\n",
       "      <td>2025/01/25 00:00</td>\n",
       "      <td>ftp://ftp.ncbi.nlm.nih.gov/genomes/all/GCA/964...</td>\n",
       "    </tr>\n",
       "    <tr>\n",
       "      <th>4</th>\n",
       "      <td>136035125</td>\n",
       "      <td>136035125</td>\n",
       "      <td>95</td>\n",
       "      <td>NaN</td>\n",
       "      <td>NaN</td>\n",
       "      <td>45958342</td>\n",
       "      <td>2025/01/25 00:00</td>\n",
       "      <td>ftp://ftp.ncbi.nlm.nih.gov/genomes/all/GCA/964...</td>\n",
       "    </tr>\n",
       "  </tbody>\n",
       "</table>\n",
       "</div>"
      ],
      "text/plain": [
       "   ContigN50  ScaffoldN50  Coverage   Sex  Isolate  BioSampleId  \\\n",
       "0  108176534    134959787        76  male  HG03492     13958363   \n",
       "1   59309297     59309297        40   NaN      NaN     45947948   \n",
       "2   48812273     48812273        38   NaN      NaN     45948176   \n",
       "3   91818594     91818594        40   NaN      NaN     45959207   \n",
       "4  136035125    136035125        95   NaN      NaN     45958342   \n",
       "\n",
       "  AsmReleaseDate_GenBank                                    FtpPath_GenBank  \n",
       "0       2025/02/03 00:00  ftp://ftp.ncbi.nlm.nih.gov/genomes/all/GCA/018...  \n",
       "1       2025/01/25 00:00  ftp://ftp.ncbi.nlm.nih.gov/genomes/all/GCA/964...  \n",
       "2       2025/01/25 00:00  ftp://ftp.ncbi.nlm.nih.gov/genomes/all/GCA/964...  \n",
       "3       2025/01/25 00:00  ftp://ftp.ncbi.nlm.nih.gov/genomes/all/GCA/964...  \n",
       "4       2025/01/25 00:00  ftp://ftp.ncbi.nlm.nih.gov/genomes/all/GCA/964...  "
      ]
     },
     "execution_count": 77,
     "metadata": {},
     "output_type": "execute_result"
    }
   ],
   "source": [
    "data = pd.read_csv(\"homo_sapiens.txt\", sep=\";\")\n",
    "data.head()"
   ]
  },
  {
   "cell_type": "code",
   "execution_count": 78,
   "metadata": {},
   "outputs": [],
   "source": [
    "#my_scripts.generation_dataset_cds()\n",
    "# Télécharge 1 giga"
   ]
  },
  {
   "cell_type": "code",
   "execution_count": null,
   "metadata": {},
   "outputs": [],
   "source": []
  }
 ],
 "metadata": {
  "kernelspec": {
   "display_name": "ds",
   "language": "python",
   "name": "python3"
  },
  "language_info": {
   "codemirror_mode": {
    "name": "ipython",
    "version": 3
   },
   "file_extension": ".py",
   "mimetype": "text/x-python",
   "name": "python",
   "nbconvert_exporter": "python",
   "pygments_lexer": "ipython3",
   "version": "3.12.3"
  }
 },
 "nbformat": 4,
 "nbformat_minor": 2
}
